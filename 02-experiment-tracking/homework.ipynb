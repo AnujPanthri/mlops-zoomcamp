{
 "cells": [
  {
   "cell_type": "code",
   "execution_count": 1,
   "id": "f750713a",
   "metadata": {},
   "outputs": [],
   "source": [
    "import pandas as pd\n",
    "from sklearn.feature_extraction import DictVectorizer\n",
    "from sklearn.linear_model import LinearRegression\n",
    "from sklearn.linear_model import Lasso\n",
    "from sklearn.metrics import mean_squared_error\n",
    "import seaborn as sns\n",
    "import matplotlib.pyplot as plt\n",
    "import pickle"
   ]
  },
  {
   "cell_type": "code",
   "execution_count": 2,
   "id": "6ff83426-df3f-46c9-9107-f14081c45e38",
   "metadata": {},
   "outputs": [
    {
     "data": {
      "text/plain": [
       "<Experiment: artifact_location='/workspaces/mlops-zoomcamp/02-experiment-tracking/mlruns/1', creation_time=1715959168737, experiment_id='1', last_update_time=1715959168737, lifecycle_stage='active', name='nyc-taxi-exp', tags={}>"
      ]
     },
     "execution_count": 2,
     "metadata": {},
     "output_type": "execute_result"
    }
   ],
   "source": [
    "import mlflow\n",
    "\n",
    "mlflow.set_tracking_uri(\"sqlite:///mlflow.db\")\n",
    "mlflow.set_experiment(\"nyc-taxi-exp\")"
   ]
  },
  {
   "cell_type": "code",
   "execution_count": 3,
   "id": "7fccfbd4",
   "metadata": {},
   "outputs": [],
   "source": [
    "def read_dataframe(filename):\n",
    "    df = pd.read_parquet(filename)\n",
    "    print(\"Q1. number of columns:\",df.shape[1])\n",
    "    \n",
    "    df['duration'] = df[\"tpep_dropoff_datetime\"]-df[\"tpep_pickup_datetime\"]\n",
    "    df.duration = df.duration.apply(lambda td: td.total_seconds() / 60)\n",
    "    print(\"Q2. duration standard deviation:\",df.duration.std())\n",
    "    \n",
    "    # only use rides which were between 1 to 60 minutes\n",
    "    valid_rows = (df.duration>=1) & (df.duration<=60)\n",
    "    print(\"Q3. valid rows percentage:\",valid_rows.mean())\n",
    "    \n",
    "    df = df[valid_rows]\n",
    "    \n",
    "    categorical = [\"PULocationID\", \"DOLocationID\"]\n",
    "    df[categorical] = df[categorical].astype(str)\n",
    "    \n",
    "    return df"
   ]
  },
  {
   "cell_type": "code",
   "execution_count": 4,
   "id": "bc312a78",
   "metadata": {},
   "outputs": [
    {
     "name": "stdout",
     "output_type": "stream",
     "text": [
      "Q1. number of columns: 19\n",
      "Q2. duration standard deviation: 42.59435124195458\n",
      "Q3. valid rows percentage: 0.9812202822125979\n",
      "Q1. number of columns: 19\n",
      "Q2. duration standard deviation: 42.84210176105113\n",
      "Q3. valid rows percentage: 0.9800944077722545\n"
     ]
    }
   ],
   "source": [
    "train_df = read_dataframe(\"https://d37ci6vzurychx.cloudfront.net/trip-data/yellow_tripdata_2023-01.parquet\")\n",
    "val_df = read_dataframe(\"https://d37ci6vzurychx.cloudfront.net/trip-data/yellow_tripdata_2023-02.parquet\")"
   ]
  },
  {
   "cell_type": "code",
   "execution_count": 5,
   "id": "08a3feca",
   "metadata": {},
   "outputs": [
    {
     "data": {
      "text/plain": [
       "(1.0, 60.0)"
      ]
     },
     "execution_count": 5,
     "metadata": {},
     "output_type": "execute_result"
    }
   ],
   "source": [
    "train_df.duration.min(),train_df.duration.max()"
   ]
  },
  {
   "cell_type": "code",
   "execution_count": 6,
   "id": "619b4e66",
   "metadata": {},
   "outputs": [
    {
     "data": {
      "text/plain": [
       "(3009173, 2855951)"
      ]
     },
     "execution_count": 6,
     "metadata": {},
     "output_type": "execute_result"
    }
   ],
   "source": [
    "len(train_df),len(val_df)"
   ]
  },
  {
   "cell_type": "code",
   "execution_count": 15,
   "id": "1eda75f6",
   "metadata": {},
   "outputs": [
    {
     "data": {
      "text/plain": [
       "0    161_141\n",
       "1     43_237\n",
       "2     48_238\n",
       "3      138_7\n",
       "4     107_79\n",
       "Name: PU_DO, dtype: object"
      ]
     },
     "execution_count": 15,
     "metadata": {},
     "output_type": "execute_result"
    }
   ],
   "source": [
    "train_df[\"PU_DO\"] = train_df[\"PULocationID\"] + \"_\" + train_df[\"DOLocationID\"]\n",
    "val_df[\"PU_DO\"] = val_df[\"PULocationID\"] + \"_\" + val_df[\"DOLocationID\"]\n",
    "train_df[\"PU_DO\"].head()"
   ]
  },
  {
   "cell_type": "code",
   "execution_count": 16,
   "id": "7f257053",
   "metadata": {},
   "outputs": [
    {
     "data": {
      "text/plain": [
       "(3009173, 21)"
      ]
     },
     "execution_count": 16,
     "metadata": {},
     "output_type": "execute_result"
    }
   ],
   "source": [
    "# train_df.drop(\"PU_DO\",inplace=True,axis=1)\n",
    "# val_df.drop(\"PU_DO\",inplace=True,axis=1)\n",
    "#\n",
    "train_df.shape"
   ]
  },
  {
   "cell_type": "code",
   "execution_count": 28,
   "id": "c052f308",
   "metadata": {},
   "outputs": [],
   "source": [
    "# categorical = [\"PULocationID\", \"DOLocationID\"]\n",
    "categorical = [\"PU_DO\"]\n",
    "numerical = [\"trip_distance\"]\n",
    "# numerical = []\n",
    "\n",
    "dv = DictVectorizer()\n",
    "\n",
    "train_dicts = train_df[categorical + numerical].to_dict(orient=\"records\")\n",
    "X_train = dv.fit_transform(train_dicts)\n",
    "\n",
    "val_dicts = val_df[categorical + numerical].to_dict(orient=\"records\")\n",
    "X_val = dv.transform(val_dicts)"
   ]
  },
  {
   "cell_type": "code",
   "execution_count": 18,
   "id": "9254adca",
   "metadata": {},
   "outputs": [],
   "source": [
    "target = \"duration\"\n",
    "y_train = train_df[target].values\n",
    "y_val = val_df[target].values"
   ]
  },
  {
   "cell_type": "code",
   "execution_count": 19,
   "id": "9d069982",
   "metadata": {},
   "outputs": [
    {
     "name": "stdout",
     "output_type": "stream",
     "text": [
      "Q4. data final shape: (3009173, 21802)\n"
     ]
    }
   ],
   "source": [
    "print(\"Q4. data final shape:\",X_train.shape)"
   ]
  },
  {
   "cell_type": "code",
   "execution_count": 20,
   "id": "b970f973",
   "metadata": {},
   "outputs": [
    {
     "data": {
      "text/plain": [
       "(2855951, 21802)"
      ]
     },
     "execution_count": 20,
     "metadata": {},
     "output_type": "execute_result"
    }
   ],
   "source": [
    "X_val.shape"
   ]
  },
  {
   "cell_type": "code",
   "execution_count": 21,
   "id": "553af959",
   "metadata": {},
   "outputs": [
    {
     "name": "stderr",
     "output_type": "stream",
     "text": [
      "/home/codespace/anaconda3/envs/exp-tracking/lib/python3.9/site-packages/sklearn/metrics/_regression.py:483: FutureWarning: 'squared' is deprecated in version 1.4 and will be removed in 1.6. To calculate the root mean squared error, use the function'root_mean_squared_error'.\n",
      "  warnings.warn(\n",
      "/home/codespace/anaconda3/envs/exp-tracking/lib/python3.9/site-packages/sklearn/metrics/_regression.py:483: FutureWarning: 'squared' is deprecated in version 1.4 and will be removed in 1.6. To calculate the root mean squared error, use the function'root_mean_squared_error'.\n",
      "  warnings.warn(\n"
     ]
    },
    {
     "name": "stdout",
     "output_type": "stream",
     "text": [
      "Q5. train RMSE: 5.133258299449133\n",
      "Q6. val RMSE: 5.24756029797959\n"
     ]
    },
    {
     "name": "stderr",
     "output_type": "stream",
     "text": [
      "/home/codespace/anaconda3/envs/exp-tracking/lib/python3.9/site-packages/_distutils_hack/__init__.py:11: UserWarning: Distutils was imported before Setuptools, but importing Setuptools also replaces the `distutils` module in `sys.modules`. This may lead to undesirable behaviors or errors. To avoid these issues, avoid using distutils directly, ensure that setuptools is installed in the traditional way (e.g. not an editable install), and/or make sure that setuptools is always imported before distutils.\n",
      "  warnings.warn(\n",
      "/home/codespace/anaconda3/envs/exp-tracking/lib/python3.9/site-packages/_distutils_hack/__init__.py:26: UserWarning: Setuptools is replacing distutils.\n",
      "  warnings.warn(\"Setuptools is replacing distutils.\")\n"
     ]
    }
   ],
   "source": [
    "with mlflow.start_run():\n",
    "    mlflow.set_tag(\"Scientist\",\"Anuj Panthri\")\n",
    "    mlflow.set_tag(\"model_type\",\"linear_regression\")\n",
    "\n",
    "    mlflow.log_param(\"training_data\",\"https://d37ci6vzurychx.cloudfront.net/trip-data/yellow_tripdata_2023-01.parquet\")\n",
    "    mlflow.log_param(\"validation_data\",\"https://d37ci6vzurychx.cloudfront.net/trip-data/yellow_tripdata_2023-02.parquet\")\n",
    "    mlflow.log_param(\"categorical_cols\",categorical)\n",
    "    mlflow.log_param(\"numerical_cols\",numerical)\n",
    "    \n",
    "    lr = LinearRegression()\n",
    "    lr.fit(X_train,y_train)\n",
    "    \n",
    "    y_pred = lr.predict(X_train)\n",
    "    rmse = mean_squared_error(y_train, y_pred, squared=False)\n",
    "    print(\"Q5. train RMSE:\",rmse)\n",
    "    mlflow.log_metric(\"train_rmse\",rmse)\n",
    "    \n",
    "    y_pred = lr.predict(X_val)\n",
    "    rmse = mean_squared_error(y_val, y_pred, squared=False)\n",
    "    print(\"Q6. val RMSE:\",rmse)\n",
    "    mlflow.log_metric(\"val_rmse\",rmse)\n",
    "\n",
    "    # with open(\"models/lin_reg.bin\",\"wb\") as f_out:\n",
    "    #     pickle.dump((dv, lr), f_out)\n",
    "        \n",
    "    with open(\"models/preprocessor.b\",\"wb\") as f_out:\n",
    "        pickle.dump(dv, f_out)\n",
    "\n",
    "    mlflow.sklearn.log_model(lr,\"sklearn_model\")\n",
    "    mlflow.log_artifact(\"models/preprocessor.b\",\"preprocessing\")"
   ]
  },
  {
   "cell_type": "code",
   "execution_count": 22,
   "id": "e4f5b23c",
   "metadata": {},
   "outputs": [
    {
     "name": "stderr",
     "output_type": "stream",
     "text": [
      "/tmp/ipykernel_4336/2060915550.py:1: UserWarning: \n",
      "\n",
      "`distplot` is a deprecated function and will be removed in seaborn v0.14.0.\n",
      "\n",
      "Please adapt your code to use either `displot` (a figure-level function with\n",
      "similar flexibility) or `histplot` (an axes-level function for histograms).\n",
      "\n",
      "For a guide to updating your code to use the new functions, please see\n",
      "https://gist.github.com/mwaskom/de44147ed2974457ad6372750bbe5751\n",
      "\n",
      "  sns.distplot(y_val,label=\"actual\")\n",
      "/tmp/ipykernel_4336/2060915550.py:2: UserWarning: \n",
      "\n",
      "`distplot` is a deprecated function and will be removed in seaborn v0.14.0.\n",
      "\n",
      "Please adapt your code to use either `displot` (a figure-level function with\n",
      "similar flexibility) or `histplot` (an axes-level function for histograms).\n",
      "\n",
      "For a guide to updating your code to use the new functions, please see\n",
      "https://gist.github.com/mwaskom/de44147ed2974457ad6372750bbe5751\n",
      "\n",
      "  sns.distplot(y_pred,label=\"predicted\")\n"
     ]
    },
    {
     "data": {
      "text/plain": [
       "<matplotlib.legend.Legend at 0x7fd87175a910>"
      ]
     },
     "execution_count": 22,
     "metadata": {},
     "output_type": "execute_result"
    },
    {
     "data": {
      "image/png": "[encoded data removed]",
      "text/plain": [
       "<Figure size 640x480 with 1 Axes>"
      ]
     },
     "metadata": {},
     "output_type": "display_data"
    }
   ],
   "source": [
    "sns.distplot(y_val,label=\"actual\")\n",
    "sns.distplot(y_pred,label=\"predicted\")\n",
    "plt.legend()"
   ]
  },
  {
   "cell_type": "code",
   "execution_count": 16,
   "id": "cdfbf4f2-24f9-4f09-8906-7be5f91f69b6",
   "metadata": {},
   "outputs": [],
   "source": [
    "# !mkdir models"
   ]
  },
  {
   "cell_type": "code",
   "execution_count": 17,
   "id": "e8a27cbd",
   "metadata": {},
   "outputs": [],
   "source": []
  },
  {
   "cell_type": "code",
   "execution_count": 57,
   "id": "fc565c57",
   "metadata": {},
   "outputs": [],
   "source": [
    "# lasso = Lasso()\n",
    "# lasso.fit(X_train,y_train)\n",
    "\n",
    "# y_pred = lasso.predict(X_val)\n",
    "\n",
    "# mean_squared_error(y_val, y_pred, squared=False)"
   ]
  },
  {
   "cell_type": "code",
   "execution_count": 55,
   "id": "41acf2c7",
   "metadata": {},
   "outputs": [],
   "source": [
    "# sns.distplot(y_val,label=\"actual\")\n",
    "# sns.distplot(y_pred,label=\"predicted\")\n",
    "# plt.legend()"
   ]
  },
  {
   "cell_type": "code",
   "execution_count": 30,
   "id": "23236160",
   "metadata": {},
   "outputs": [
    {
     "data": {
      "application/vnd.jupyter.widget-view+json": {
       "model_id": "3603367028c74738b10f91048c2b2787",
       "version_major": 2,
       "version_minor": 0
      },
      "text/plain": [
       "Downloading artifacts:   0%|          | 0/1 [00:00<?, ?it/s]"
      ]
     },
     "metadata": {},
     "output_type": "display_data"
    },
    {
     "data": {
      "text/plain": [
       "array([23.19714925, 23.19714925, 23.19714925, 23.19714925, 23.19714925,\n",
       "       23.19714925, 23.19714925, 23.19714925, 23.19714925, 23.19714925])"
      ]
     },
     "execution_count": 30,
     "metadata": {},
     "output_type": "execute_result"
    }
   ],
   "source": [
    "import mlflow\n",
    "logged_model = 'runs:/e0aaf73a43c44ff6b429ade825e09171/sklearn_model'\n",
    "logged_preprocessor = 'runs:/e0aaf73a43c44ff6b429ade825e09171/preprocessing/preprocessor.b'\n",
    "\n",
    "# Load model as a SklearnModel.\n",
    "loaded_model = mlflow.sklearn.load_model(logged_model)\n",
    "loaded_model\n",
    "\n",
    "mlflow.artifacts.download_artifacts(artifact_uri=logged_preprocessor,dst_path=\"models\")\n",
    "dv = pickle.load(open(\"models/preprocessor.b\",'rb'))\n",
    "\n",
    "loaded_model.predict(dv.transform(val_dicts)[:100])[:10]"
   ]
  },
  {
   "cell_type": "code",
   "execution_count": null,
   "id": "fcb25f37",
   "metadata": {},
   "outputs": [],
   "source": []
  },
  {
   "cell_type": "code",
   "execution_count": null,
   "id": "ea92c43e-a33d-4822-9900-78d5160cffb1",
   "metadata": {},
   "outputs": [],
   "source": []
  }
 ],
 "metadata": {
  "kernelspec": {
   "display_name": "Python 3 (ipykernel)",
   "language": "python",
   "name": "python3"
  },
  "language_info": {
   "codemirror_mode": {
    "name": "ipython",
    "version": 3
   },
   "file_extension": ".py",
   "mimetype": "text/x-python",
   "name": "python",
   "nbconvert_exporter": "python",
   "pygments_lexer": "ipython3",
   "version": "3.9.19"
  }
 },
 "nbformat": 4,
 "nbformat_minor": 5
}
