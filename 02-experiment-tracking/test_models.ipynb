{
 "cells": [
  {
   "cell_type": "code",
   "execution_count": 7,
   "id": "47b0eb9b",
   "metadata": {},
   "outputs": [],
   "source": [
    "from mlflow.tracking import MlflowClient\n",
    "\n",
    "MLFLOW_TRACKING_URI = \"sqlite:///mlflow.db\"\n",
    "client = MlflowClient(tracking_uri=MLFLOW_TRACKING_URI)"
   ]
  },
  {
   "cell_type": "code",
   "execution_count": 18,
   "id": "e6e5301b-84f6-4b68-8870-bf08a7fecda9",
   "metadata": {},
   "outputs": [
    {
     "data": {
      "text/plain": [
       "<Experiment: artifact_location='/workspaces/mlops-zoomcamp/02-experiment-tracking/mlruns/1', creation_time=1715959168737, experiment_id='1', last_update_time=1715959168737, lifecycle_stage='active', name='nyc-taxi-exp', tags={}>"
      ]
     },
     "execution_count": 18,
     "metadata": {},
     "output_type": "execute_result"
    }
   ],
   "source": [
    "client.search_experiments(filter_string=\"name='nyc-taxi-exp'\")[0]"
   ]
  },
  {
   "cell_type": "code",
   "execution_count": 30,
   "id": "2deb8dcb-5898-4eb5-8a43-f52c5da1d93e",
   "metadata": {},
   "outputs": [
    {
     "name": "stdout",
     "output_type": "stream",
     "text": [
      "run name:rebellious-newt-904 id:e94c7c8f1f7b452fb7a3f855203ca19a train_rmse:5.133258299449133 val_rmse:5.24756029797959\n",
      "run name:popular-crow-749 id:e0aaf73a43c44ff6b429ade825e09171 train_rmse:7.649261932106969 val_rmse:7.811818743246608\n",
      "run name:chill-duck-470 id:e4e5ac11664945b89d9812c5d40207ee train_rmse:7.649261932106969 val_rmse:7.811818743246608\n",
      "run name:calm-gnat-318 id:3448fa179adf4d04b484280eba1f12d2 train_rmse:7.649261932106969 val_rmse:7.811818743246608\n"
     ]
    }
   ],
   "source": [
    "runs = client.search_runs(\n",
    "    experiment_ids = \"1\",\n",
    "    order_by = [\"metrics.val_rmse ASC\",\"metrics.train_rmse ASC\"],\n",
    "    max_results = 4,\n",
    ")\n",
    "\n",
    "for run in runs:\n",
    "    print(f\"run name:{run.info.run_name} id:{run.info.run_id} train_rmse:{run.data.metrics['train_rmse']} val_rmse:{run.data.metrics['val_rmse']}\")"
   ]
  },
  {
   "cell_type": "code",
   "execution_count": 50,
   "id": "3cd2c2f5-68eb-46a8-9360-a0b036563019",
   "metadata": {},
   "outputs": [
    {
     "name": "stdout",
     "output_type": "stream",
     "text": [
      "version:2, id:e0c16d31de3f4df7979d1f6a378f03dd\n",
      "version:1, id:e94c7c8f1f7b452fb7a3f855203ca19a\n"
     ]
    }
   ],
   "source": [
    "# registered_models = client.search_registered_models()\n",
    "registered_models = client.search_model_versions(\"name='nyc-taxi-model'\")\n",
    "\n",
    "for register_model in registered_models:\n",
    "    print(f\"version:{register_model.version}, id:{register_model.run_id}\")"
   ]
  },
  {
   "cell_type": "code",
   "execution_count": 63,
   "id": "2edb13b0-bf4f-499b-af64-ca949e896549",
   "metadata": {},
   "outputs": [
    {
     "name": "stdout",
     "output_type": "stream",
     "text": [
      "version:1, id:e0c16d31de3f4df7979d1f6a378f03dd\n",
      "<Run: data=<RunData: metrics={'train_rmse': 7.658396898909143, 'val_rmse': 7.820263388747155}, params={'categorical_cols': \"['PULocationID', 'DOLocationID']\",\n",
      " 'numerical_cols': \"['trip_distance']\",\n",
      " 'training_data': 'https://d37ci6vzurychx.cloudfront.net/trip-data/yellow_tripdata_2023-01.parquet',\n",
      " 'validation_data': 'https://d37ci6vzurychx.cloudfront.net/trip-data/yellow_tripdata_2023-02.parquet'}, tags={'Scientist': 'Anuj Panthri',\n",
      " 'mlflow.log-model.history': '[{\"run_id\": \"e0c16d31de3f4df7979d1f6a378f03dd\", '\n",
      "                             '\"artifact_path\": \"sklearn_model\", '\n",
      "                             '\"utc_time_created\": \"2024-05-19 '\n",
      "                             '13:26:58.079913\", \"flavors\": {\"python_function\": '\n",
      "                             '{\"model_path\": \"model.pkl\", \"predict_fn\": '\n",
      "                             '\"predict\", \"loader_module\": \"mlflow.sklearn\", '\n",
      "                             '\"python_version\": \"3.9.19\", \"env\": {\"conda\": '\n",
      "                             '\"conda.yaml\", \"virtualenv\": \"python_env.yaml\"}}, '\n",
      "                             '\"sklearn\": {\"pickled_model\": \"model.pkl\", '\n",
      "                             '\"sklearn_version\": \"1.4.2\", '\n",
      "                             '\"serialization_format\": \"cloudpickle\", \"code\": '\n",
      "                             'null}}, \"model_uuid\": '\n",
      "                             '\"3b1a5fcc4a4446ee8dedee7beb0b3f1b\", '\n",
      "                             '\"mlflow_version\": \"2.12.2\", \"model_size_bytes\": '\n",
      "                             '4484}]',\n",
      " 'mlflow.runName': 'thundering-roo-571',\n",
      " 'mlflow.source.name': '/home/codespace/anaconda3/envs/exp-tracking/lib/python3.9/site-packages/ipykernel_launcher.py',\n",
      " 'mlflow.source.type': 'LOCAL',\n",
      " 'mlflow.user': 'codespace',\n",
      " 'model_type': 'linear_regression'}>, info=<RunInfo: artifact_uri='/workspaces/mlops-zoomcamp/02-experiment-tracking/mlruns/1/e0c16d31de3f4df7979d1f6a378f03dd/artifacts', end_time=1716125222075, experiment_id='1', lifecycle_stage='active', run_id='e0c16d31de3f4df7979d1f6a378f03dd', run_name='thundering-roo-571', run_uuid='e0c16d31de3f4df7979d1f6a378f03dd', start_time=1716125213076, status='FINISHED', user_id='codespace'>, inputs=<RunInputs: dataset_inputs=[]>>\n",
      "version:1, id:e94c7c8f1f7b452fb7a3f855203ca19a\n",
      "<Run: data=<RunData: metrics={'train_rmse': 5.133258299449133, 'val_rmse': 5.24756029797959}, params={'categorical_cols': \"['PU_DO']\",\n",
      " 'numerical_cols': \"['trip_distance']\",\n",
      " 'training_data': 'https://d37ci6vzurychx.cloudfront.net/trip-data/yellow_tripdata_2023-01.parquet',\n",
      " 'validation_data': 'https://d37ci6vzurychx.cloudfront.net/trip-data/yellow_tripdata_2023-02.parquet'}, tags={'Scientist': 'Anuj Panthri',\n",
      " 'mlflow.log-model.history': '[{\"run_id\": \"e94c7c8f1f7b452fb7a3f855203ca19a\", '\n",
      "                             '\"artifact_path\": \"sklearn_model\", '\n",
      "                             '\"utc_time_created\": \"2024-05-19 '\n",
      "                             '13:28:16.653511\", \"flavors\": {\"python_function\": '\n",
      "                             '{\"model_path\": \"model.pkl\", \"predict_fn\": '\n",
      "                             '\"predict\", \"loader_module\": \"mlflow.sklearn\", '\n",
      "                             '\"python_version\": \"3.9.19\", \"env\": {\"conda\": '\n",
      "                             '\"conda.yaml\", \"virtualenv\": \"python_env.yaml\"}}, '\n",
      "                             '\"sklearn\": {\"pickled_model\": \"model.pkl\", '\n",
      "                             '\"sklearn_version\": \"1.4.2\", '\n",
      "                             '\"serialization_format\": \"cloudpickle\", \"code\": '\n",
      "                             'null}}, \"model_uuid\": '\n",
      "                             '\"8e6eb140f6d744808a949bb020372b78\", '\n",
      "                             '\"mlflow_version\": \"2.12.2\", \"model_size_bytes\": '\n",
      "                             '174781}]',\n",
      " 'mlflow.runName': 'rebellious-newt-904',\n",
      " 'mlflow.source.name': '/home/codespace/anaconda3/envs/exp-tracking/lib/python3.9/site-packages/ipykernel_launcher.py',\n",
      " 'mlflow.source.type': 'LOCAL',\n",
      " 'mlflow.user': 'codespace',\n",
      " 'model_type': 'linear_regression'}>, info=<RunInfo: artifact_uri='/workspaces/mlops-zoomcamp/02-experiment-tracking/mlruns/1/e94c7c8f1f7b452fb7a3f855203ca19a/artifacts', end_time=1716125298711, experiment_id='1', lifecycle_stage='active', run_id='e94c7c8f1f7b452fb7a3f855203ca19a', run_name='rebellious-newt-904', run_uuid='e94c7c8f1f7b452fb7a3f855203ca19a', start_time=1716125293869, status='FINISHED', user_id='codespace'>, inputs=<RunInputs: dataset_inputs=[]>>\n"
     ]
    }
   ],
   "source": [
    "import mlflow\n",
    "\n",
    "mlflow.set_tracking_uri(MLFLOW_TRACKING_URI)\n",
    "\n",
    "for registered_model in registered_models:\n",
    "    print(f\"version:{register_model.version}, id:{registered_model.run_id}\")\n",
    "    curr_run = mlflow.get_run(run_id=registered_model.run_id)\n",
    "    print(curr_run)"
   ]
  },
  {
   "cell_type": "code",
   "execution_count": 64,
   "id": "de388ee2-0d41-43b2-a330-0567af8e300b",
   "metadata": {},
   "outputs": [
    {
     "name": "stdout",
     "output_type": "stream",
     "text": [
      "version:1, id:e94c7c8f1f7b452fb7a3f855203ca19a\n",
      "<Run: data=<RunData: metrics={'train_rmse': 5.133258299449133, 'val_rmse': 5.24756029797959}, params={'categorical_cols': \"['PU_DO']\",\n",
      " 'numerical_cols': \"['trip_distance']\",\n",
      " 'training_data': 'https://d37ci6vzurychx.cloudfront.net/trip-data/yellow_tripdata_2023-01.parquet',\n",
      " 'validation_data': 'https://d37ci6vzurychx.cloudfront.net/trip-data/yellow_tripdata_2023-02.parquet'}, tags={'Scientist': 'Anuj Panthri',\n",
      " 'mlflow.log-model.history': '[{\"run_id\": \"e94c7c8f1f7b452fb7a3f855203ca19a\", '\n",
      "                             '\"artifact_path\": \"sklearn_model\", '\n",
      "                             '\"utc_time_created\": \"2024-05-19 '\n",
      "                             '13:28:16.653511\", \"flavors\": {\"python_function\": '\n",
      "                             '{\"model_path\": \"model.pkl\", \"predict_fn\": '\n",
      "                             '\"predict\", \"loader_module\": \"mlflow.sklearn\", '\n",
      "                             '\"python_version\": \"3.9.19\", \"env\": {\"conda\": '\n",
      "                             '\"conda.yaml\", \"virtualenv\": \"python_env.yaml\"}}, '\n",
      "                             '\"sklearn\": {\"pickled_model\": \"model.pkl\", '\n",
      "                             '\"sklearn_version\": \"1.4.2\", '\n",
      "                             '\"serialization_format\": \"cloudpickle\", \"code\": '\n",
      "                             'null}}, \"model_uuid\": '\n",
      "                             '\"8e6eb140f6d744808a949bb020372b78\", '\n",
      "                             '\"mlflow_version\": \"2.12.2\", \"model_size_bytes\": '\n",
      "                             '174781}]',\n",
      " 'mlflow.runName': 'rebellious-newt-904',\n",
      " 'mlflow.source.name': '/home/codespace/anaconda3/envs/exp-tracking/lib/python3.9/site-packages/ipykernel_launcher.py',\n",
      " 'mlflow.source.type': 'LOCAL',\n",
      " 'mlflow.user': 'codespace',\n",
      " 'model_type': 'linear_regression'}>, info=<RunInfo: artifact_uri='/workspaces/mlops-zoomcamp/02-experiment-tracking/mlruns/1/e94c7c8f1f7b452fb7a3f855203ca19a/artifacts', end_time=1716125298711, experiment_id='1', lifecycle_stage='active', run_id='e94c7c8f1f7b452fb7a3f855203ca19a', run_name='rebellious-newt-904', run_uuid='e94c7c8f1f7b452fb7a3f855203ca19a', start_time=1716125293869, status='FINISHED', user_id='codespace'>, inputs=<RunInputs: dataset_inputs=[]>>\n"
     ]
    },
    {
     "data": {
      "text/plain": [
       "'[{\"run_id\": \"e94c7c8f1f7b452fb7a3f855203ca19a\", \"artifact_path\": \"sklearn_model\", \"utc_time_created\": \"2024-05-19 13:28:16.653511\", \"flavors\": {\"python_function\": {\"model_path\": \"model.pkl\", \"predict_fn\": \"predict\", \"loader_module\": \"mlflow.sklearn\", \"python_version\": \"3.9.19\", \"env\": {\"conda\": \"conda.yaml\", \"virtualenv\": \"python_env.yaml\"}}, \"sklearn\": {\"pickled_model\": \"model.pkl\", \"sklearn_version\": \"1.4.2\", \"serialization_format\": \"cloudpickle\", \"code\": null}}, \"model_uuid\": \"8e6eb140f6d744808a949bb020372b78\", \"mlflow_version\": \"2.12.2\", \"model_size_bytes\": 174781}]'"
      ]
     },
     "execution_count": 64,
     "metadata": {},
     "output_type": "execute_result"
    }
   ],
   "source": [
    "print(f\"version:{registered_model.version}, id:{registered_model.run_id}\")\n",
    "curr_run = mlflow.get_run(run_id=register_model.run_id)\n",
    "print(curr_run)\n",
    "# curr_run.\n",
    "\n",
    "# mlflow.sklearn.load_model(model_uri=)\n",
    "curr_run.data.tags[\"mlflow.log-model.history\"]"
   ]
  },
  {
   "cell_type": "code",
   "execution_count": 111,
   "id": "e6c35a1b-fca7-43b6-b2a2-d4905704f539",
   "metadata": {},
   "outputs": [
    {
     "data": {
      "application/vnd.jupyter.widget-view+json": {
       "model_id": "a9740ec5d92f4b3794643a862e9160a4",
       "version_major": 2,
       "version_minor": 0
      },
      "text/plain": [
       "Downloading artifacts:   0%|          | 0/1 [00:00<?, ?it/s]"
      ]
     },
     "metadata": {},
     "output_type": "display_data"
    },
    {
     "data": {
      "text/plain": [
       "(['PU_DO'], ['trip_distance'])"
      ]
     },
     "execution_count": 111,
     "metadata": {},
     "output_type": "execute_result"
    }
   ],
   "source": [
    "import pickle\n",
    "\n",
    "model_name = \"nyc-taxi-model\"\n",
    "\n",
    "def get_model_data(model_version):\n",
    "    registered_model = client.get_model_version(model_name,model_version)\n",
    "    model_uri = f\"models:/{model_name}/{model_version}\"\n",
    "    preprocessor_uri = f'runs:/{registered_model.run_id}/preprocessing'\n",
    "    \n",
    "    mlflow.artifacts.download_artifacts(artifact_uri = preprocessor_uri,dst_path=\".\")\n",
    "    model = mlflow.sklearn.load_model(model_uri)\n",
    "    dv = pickle.load(open(\"preprocessing/preprocessor.b\",'rb'))\n",
    "    \n",
    "    categorical = eval(curr_run.data.params[\"categorical_cols\"])\n",
    "    numerical = eval(curr_run.data.params[\"numerical_cols\"])\n",
    "\n",
    "    return model,categorical,numerical,dv\n",
    "\n",
    "model,categorical,numerical,dv = get_model_data(model_version = 1)\n",
    "categorical,numerical"
   ]
  },
  {
   "cell_type": "code",
   "execution_count": 114,
   "id": "65c915b8-4a61-4984-8a31-2912cbc5979e",
   "metadata": {},
   "outputs": [],
   "source": [
    "from sklearn.metrics import mean_squared_error\n",
    "import pandas as pd\n",
    "\n",
    "def read_dataframe(filename):\n",
    "    df = pd.read_parquet(filename)\n",
    "\n",
    "    df['duration'] = df[\"tpep_dropoff_datetime\"]-df[\"tpep_pickup_datetime\"]\n",
    "    df.duration = df.duration.apply(lambda td: td.total_seconds() / 60)\n",
    "    \n",
    "    # only use rides which were between 1 to 60 minutes\n",
    "    valid_rows = (df.duration>=1) & (df.duration<=60)\n",
    "    df = df[valid_rows]\n",
    "    df[[\"PULocationID\", \"DOLocationID\"]] = df[[\"PULocationID\", \"DOLocationID\"]].astype(str)\n",
    "\n",
    "    return df\n",
    "\n",
    "def preprocess(df,categorical,numerical,dv):\n",
    "    # feature engineering\n",
    "    df[\"PU_DO\"] = df[\"PULocationID\"] + \"_\" + df[\"DOLocationID\"]\n",
    "    \n",
    "    data_dicts = df[categorical + numerical].to_dict(orient=\"records\")\n",
    "    X = dv.transform(data_dicts)\n",
    "    \n",
    "    target = \"duration\"\n",
    "    y = df[target].values\n",
    "    \n",
    "    return X,y\n",
    "\n",
    "def test_model(model,X_test,y_test):\n",
    "    y_pred = model.predict(X_test)\n",
    "    rmse = mean_squared_error(y_test,y_pred,squared=False)\n",
    "    return {\"rmse\":rmse}"
   ]
  },
  {
   "cell_type": "code",
   "execution_count": 115,
   "id": "b92d0db3-fefb-4cdb-80b0-0192c7782de0",
   "metadata": {},
   "outputs": [
    {
     "data": {
      "application/vnd.jupyter.widget-view+json": {
       "model_id": "716db97a19aa482b860e1abc080ef3e3",
       "version_major": 2,
       "version_minor": 0
      },
      "text/plain": [
       "Downloading artifacts:   0%|          | 0/1 [00:00<?, ?it/s]"
      ]
     },
     "metadata": {},
     "output_type": "display_data"
    },
    {
     "name": "stdout",
     "output_type": "stream",
     "text": [
      "CPU times: user 16.9 ms, sys: 109 µs, total: 17 ms\n",
      "Wall time: 16.8 ms\n"
     ]
    },
    {
     "name": "stderr",
     "output_type": "stream",
     "text": [
      "/home/codespace/anaconda3/envs/exp-tracking/lib/python3.9/site-packages/sklearn/metrics/_regression.py:483: FutureWarning: 'squared' is deprecated in version 1.4 and will be removed in 1.6. To calculate the root mean squared error, use the function'root_mean_squared_error'.\n",
      "  warnings.warn(\n"
     ]
    },
    {
     "data": {
      "text/plain": [
       "{'rmse': 5.133258299449133}"
      ]
     },
     "execution_count": 115,
     "metadata": {},
     "output_type": "execute_result"
    }
   ],
   "source": [
    "model,categorical,numerical,dv = get_model_data(model_version = 1)\n",
    "df = read_dataframe(\"https://d37ci6vzurychx.cloudfront.net/trip-data/yellow_tripdata_2023-01.parquet\")\n",
    "X,y_true = preprocess(df,categorical,numerical,dv)\n",
    "\n",
    "%time test_model(model,X,y_true)"
   ]
  },
  {
   "cell_type": "code",
   "execution_count": 119,
   "id": "47f17057-647e-4fb7-aede-27fd10f0d850",
   "metadata": {},
   "outputs": [
    {
     "data": {
      "application/vnd.jupyter.widget-view+json": {
       "model_id": "3721d0a395fc445494ec25af990cf9c2",
       "version_major": 2,
       "version_minor": 0
      },
      "text/plain": [
       "Downloading artifacts:   0%|          | 0/1 [00:00<?, ?it/s]"
      ]
     },
     "metadata": {},
     "output_type": "display_data"
    },
    {
     "name": "stdout",
     "output_type": "stream",
     "text": [
      "CPU times: user 22.9 ms, sys: 0 ns, total: 22.9 ms\n",
      "Wall time: 24.2 ms\n"
     ]
    },
    {
     "name": "stderr",
     "output_type": "stream",
     "text": [
      "/home/codespace/anaconda3/envs/exp-tracking/lib/python3.9/site-packages/sklearn/metrics/_regression.py:483: FutureWarning: 'squared' is deprecated in version 1.4 and will be removed in 1.6. To calculate the root mean squared error, use the function'root_mean_squared_error'.\n",
      "  warnings.warn(\n"
     ]
    },
    {
     "data": {
      "text/plain": [
       "{'rmse': 5.710342498162453}"
      ]
     },
     "execution_count": 119,
     "metadata": {},
     "output_type": "execute_result"
    }
   ],
   "source": [
    "model,categorical,numerical,dv = get_model_data(model_version = 1)\n",
    "df = read_dataframe(\"https://d37ci6vzurychx.cloudfront.net/trip-data/yellow_tripdata_2023-03.parquet\")\n",
    "X,y_true = preprocess(df,categorical,numerical,dv)\n",
    "\n",
    "%time test_model(model,X,y_true)"
   ]
  },
  {
   "cell_type": "code",
   "execution_count": 120,
   "id": "49028429-ec93-4dfd-bf15-245f828b8e6d",
   "metadata": {},
   "outputs": [
    {
     "data": {
      "text/plain": [
       "(3316216, 21802)"
      ]
     },
     "execution_count": 120,
     "metadata": {},
     "output_type": "execute_result"
    }
   ],
   "source": [
    "X.shape"
   ]
  },
  {
   "cell_type": "code",
   "execution_count": 122,
   "id": "e1e3d159-ab98-42c1-91c8-7e54f338e4e6",
   "metadata": {},
   "outputs": [
    {
     "name": "stderr",
     "output_type": "stream",
     "text": [
      "/tmp/ipykernel_12785/334906768.py:5: UserWarning: \n",
      "\n",
      "`distplot` is a deprecated function and will be removed in seaborn v0.14.0.\n",
      "\n",
      "Please adapt your code to use either `displot` (a figure-level function with\n",
      "similar flexibility) or `histplot` (an axes-level function for histograms).\n",
      "\n",
      "For a guide to updating your code to use the new functions, please see\n",
      "https://gist.github.com/mwaskom/de44147ed2974457ad6372750bbe5751\n",
      "\n",
      "  sns.distplot(y_true,label=\"actual\")\n",
      "/tmp/ipykernel_12785/334906768.py:6: UserWarning: \n",
      "\n",
      "`distplot` is a deprecated function and will be removed in seaborn v0.14.0.\n",
      "\n",
      "Please adapt your code to use either `displot` (a figure-level function with\n",
      "similar flexibility) or `histplot` (an axes-level function for histograms).\n",
      "\n",
      "For a guide to updating your code to use the new functions, please see\n",
      "https://gist.github.com/mwaskom/de44147ed2974457ad6372750bbe5751\n",
      "\n",
      "  sns.distplot(y_pred,label=\"predicted\")\n"
     ]
    },
    {
     "data": {
      "text/plain": [
       "<matplotlib.legend.Legend at 0x7d2839d77af0>"
      ]
     },
     "execution_count": 122,
     "metadata": {},
     "output_type": "execute_result"
    },
    {
     "data": {
      "image/png": "[encoded data removed]",
      "text/plain": [
       "<Figure size 640x480 with 1 Axes>"
      ]
     },
     "metadata": {},
     "output_type": "display_data"
    }
   ],
   "source": [
    "import matplotlib.pyplot as plt\n",
    "import seaborn as sns\n",
    "\n",
    "y_pred = model.predict(X)\n",
    "sns.distplot(y_true,label=\"actual\")\n",
    "sns.distplot(y_pred,label=\"predicted\")\n",
    "plt.legend()"
   ]
  },
  {
   "cell_type": "code",
   "execution_count": 117,
   "id": "b5fc6232-fff1-41d1-8c89-8ee70e3f52df",
   "metadata": {},
   "outputs": [
    {
     "data": {
      "application/vnd.jupyter.widget-view+json": {
       "model_id": "2595a328cfbf4a44ac66c612b1c9c5ae",
       "version_major": 2,
       "version_minor": 0
      },
      "text/plain": [
       "Downloading artifacts:   0%|          | 0/1 [00:00<?, ?it/s]"
      ]
     },
     "metadata": {},
     "output_type": "display_data"
    },
    {
     "name": "stdout",
     "output_type": "stream",
     "text": [
      "CPU times: user 16.3 ms, sys: 39 µs, total: 16.3 ms\n",
      "Wall time: 16 ms\n"
     ]
    },
    {
     "name": "stderr",
     "output_type": "stream",
     "text": [
      "/home/codespace/anaconda3/envs/exp-tracking/lib/python3.9/site-packages/sklearn/metrics/_regression.py:483: FutureWarning: 'squared' is deprecated in version 1.4 and will be removed in 1.6. To calculate the root mean squared error, use the function'root_mean_squared_error'.\n",
      "  warnings.warn(\n"
     ]
    },
    {
     "data": {
      "text/plain": [
       "{'rmse': 12.650307350968557}"
      ]
     },
     "execution_count": 117,
     "metadata": {},
     "output_type": "execute_result"
    }
   ],
   "source": [
    "model,categorical,numerical,dv = get_model_data(model_version = 2)\n",
    "df = read_dataframe(\"https://d37ci6vzurychx.cloudfront.net/trip-data/yellow_tripdata_2023-03.parquet\")\n",
    "X,y_true = preprocess(df,categorical,numerical,dv)\n",
    "\n",
    "%time test_model(model,X,y_true)"
   ]
  },
  {
   "cell_type": "code",
   "execution_count": 118,
   "id": "1da3508e-2e84-4b70-a265-6cf5111eb1f0",
   "metadata": {},
   "outputs": [
    {
     "data": {
      "text/plain": [
       "(3316216, 516)"
      ]
     },
     "execution_count": 118,
     "metadata": {},
     "output_type": "execute_result"
    }
   ],
   "source": [
    "X.shape"
   ]
  },
  {
   "cell_type": "code",
   "execution_count": null,
   "id": "1ae19ea7-f569-41b0-94f9-81a4b22da91c",
   "metadata": {},
   "outputs": [],
   "source": []
  }
 ],
 "metadata": {
  "kernelspec": {
   "display_name": "Python 3 (ipykernel)",
   "language": "python",
   "name": "python3"
  },
  "language_info": {
   "codemirror_mode": {
    "name": "ipython",
    "version": 3
   },
   "file_extension": ".py",
   "mimetype": "text/x-python",
   "name": "python",
   "nbconvert_exporter": "python",
   "pygments_lexer": "ipython3",
   "version": "3.9.19"
  }
 },
 "nbformat": 4,
 "nbformat_minor": 5
}
